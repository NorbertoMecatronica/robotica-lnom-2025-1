{
 "cells": [
  {
   "cell_type": "markdown",
   "id": "367340ed-70f6-454a-84b4-e05077ae189a",
   "metadata": {},
   "source": [
    "# Practica 1 URDF"
   ]
  },
  {
   "cell_type": "markdown",
   "id": "7d4e00f8-3e58-47ec-848f-1a572cd061a1",
   "metadata": {},
   "source": [
    "| Código | Description |\n",
    "| ------:| ----------- |\n",
    "| ***Asignatura*** | Código del Trabajo o Número de Tarea | \n",
    "| **Robotica-2025-I**  | PRACTICA 1 URDF |"
   ]
  },
  {
   "cell_type": "markdown",
   "id": "1bddf68c-c612-4aa6-b52c-d0bb901c081d",
   "metadata": {},
   "source": [
    "## Contenido\n",
    "\n",
    "- [Objetivo](#objetivo)\n",
    "- [Previo](#previo)\n",
    "- [Desarrollo](#desarrollo)\n",
    "- [Conclusiones](#conclusiones)\n",
    "- [Autor](#autor)\n",
    "- [Referencias](#referencias)\n"
   ]
  },
  {
   "cell_type": "markdown",
   "id": "bd9c8509-4d67-4b6b-865f-3f1f68277461",
   "metadata": {},
   "source": [
    "## Objetivo\n",
    "El objetivo de esta práctica es que el alumno comprenda, interprete y modifique la información básica de los formatos de Universal Robot Description File (URDF)."
   ]
  },
  {
   "cell_type": "markdown",
   "id": "d88dc4d5-7482-4571-9c50-fd4e348704a2",
   "metadata": {},
   "source": [
    "## Previo"
   ]
  },
  {
   "cell_type": "markdown",
   "id": "4cef8b6a-0e9a-478b-ba43-1c692534732b",
   "metadata": {
    "jp-MarkdownHeadingCollapsed": true
   },
   "source": [
    "- **Definición de URDF**: Unified Robot Description Format (URDF) se trata de un archivo XML que permite\n",
    "describir un robot. La descripción del robot consiste en eslabones o links rígidos conectados\n",
    "por medio de las articulaciones o joints. El modelo URDF permite representar un modelo\n",
    "cinemático y dinámico del robot necesario para su simulación dinámica y para su control.\n",
    "\n",
    "![URDF](Imagenes/imagen1.png)\n",
    " \n",
    "- **Tipos de juntas que están definidas dentro del formato URDF: En función del tipo de movimiento que permita la unión entre dos partes se tienen diferentes tipos de articulaciones. Las permitidas por la especificación URDF son las siguientes:**\n",
    "| Tipo de junta | Descripción |\n",
    "| ------:| ----------- |\n",
    "| ***Revolute*** |Es una articulación rotacional con un grado de libertad, lo que significa que puede girar alrededor de un eje específico, pero dentro de un rango limitado. Este rango está definido por límites superior e inferior, que restringen cuánto puede girar la articulación.| \n",
    "| **Continuous** |Es una variación de la articulación revolute, pero a diferencia de esta, la articulación continuous no tiene límites en su rotación. Puede girar indefinidamente en ambas direcciones.|\n",
    "| **Prismatic** |Es una articulación que permite el movimiento lineal (traslación) en una dirección específica, con un grado de libertad. Este movimiento está limitado por rangos superior e inferior|\n",
    "| **Fixed** | Esta es una articulación completamente rígida, sin ningún grado de libertad. No permite ningún movimiento entre los dos elementos conectados. Se utiliza principalmente para mantener una estructura fija|\n",
    "| **Floating** | Es el tipo de articulación más flexible, permitiendo movimiento en los seis grados de libertad: tres de traslación (a lo largo de los ejes X, Y y Z) y tres de rotación (alrededor de esos mismos ejes). |\n",
    "| **Planar**| Esta articulación tiene dos grados de libertad y permite movimiento en un plano, generalmente perpendicular a un eje fijo. Puede moverse en dos direcciones en dicho plano, lo que lo hace ideal para sistemas que requieren movimientos en un área plana, como una mesa de coordenadas. |\n",
    "\n",
    "- **Definición de elementos \"primitivos\" que se pueden utilizar para definir un robot en ROS.**\n",
    " En ROS los elementos primitivos son los procesos que ntercambian mensajes a través de topicos o servicios. Las acciones permiten ejecutar tareas con actualizaciones periódicas. Además, un servidor de parámetros almacena configuraciones accesibles para los nodos, faciltando la comunicación y control en sistemas robóticos. \n",
    "- **Que es un nodo y que es un topico en ROS 2**\n",
    "  |Elemento | Descripción |\n",
    "  |--------:|-------------|\n",
    "  | **Nodo**| Es una instancia de un programa que realiza una tarea específica dentro de un sistema robótico. Cada nodo es un proceso independiente que puede comunicarse mediante mensajes a través de tópicos, servicios o acciones, cumpliendo funciones diversas, como recibir información de sensores, controlar actuadores o relaizar cálculos, permitiendo la creación de sistemas robóticos complejos y distribuidos. |\n",
    "  |**Topico**| Es un canal de comunicación donde los nodos publican y reciben mensajes de forma asincróna, permitiendo la interacción sin conexiones directas, lo que facilita la escalabilidad del sistema.|\n",
    "\n",
    "![Nodos](Imagenes/imagen2.png)\n",
    "- **Que es RVIZ.**: Es una herramienta de visualización en ROS que permite ver y analizar datos en tiempo real provenientes de sensores, robots, y otros componentes del sistema. Facilita la representación gráfica de elementos como robots, cámaras, mapas y trayectorias, permitiendo a los desarrolladores verificar el estado del sistema, diagnosticar problemas y probar algoritmos de control y percepción. Es especialmente útil para visualizar mapas 3D, datos de sensores como LIDAR y cámaras, así como la posición y orientación del robot en su entorno.\n"
   ]
  },
  {
   "cell_type": "markdown",
   "id": "31a29765-aa6a-48db-a013-be5540883af0",
   "metadata": {},
   "source": [
    "## Desarrollo\n"
   ]
  },
  {
   "cell_type": "markdown",
   "id": "d9deac95-c495-435f-ac7e-478e7f333125",
   "metadata": {},
   "source": [
    "El desarrollo de la práctica se divide en dos partes:\n",
    "\n",
    "- La primera parte de realizará en clase, en la cual se desarrollará y simulará de descripción de un eslabón cayo movimiento está restringido por una junta rotacional.\n",
    "- El alumno debe modificar el código del archivo para agregar otro eslabón el cual puede estar unido por al primer eslabón por una junta revolución o una junta prismática."
   ]
  },
  {
   "cell_type": "markdown",
   "id": "c3edc5c6-bae5-4256-ae78-8031970a423d",
   "metadata": {},
   "source": [
    "##  Resultados "
   ]
  },
  {
   "cell_type": "markdown",
   "id": "98a2498d-e234-474c-a3df-caa83f4406cb",
   "metadata": {},
   "source": [
    "1. Codigo de clase y visualizacion\n",
    "\n",
    "Este fragmento describe una conexión entre dos partes del robot que permite que una gire con respecto a la otra. La rotación tiene un límite de hasta 180 grados en cada dirección. Además, establece un límite de velocidad y de fuerza para controlar el movimiento de esta conexión.\n",
    "\n",
    "\n",
    "Codigo \n",
    "````\n",
    "<joint name=\"base_link_to_link_1_joint\" type=\"revolute\">\n",
    "        <parent link=\"base_link\" />\n",
    "        <child link=\"link_1\" />\n",
    "        <axis xyz=\"1 0 0\" />\n",
    "        <limit lower=\"-3.14159\" upper=\"3.14159\" velocity=\"50.0\" effort=\"1000\" />\n",
    "        <origin xyz=\"0.0 0.0 0.15\" rpy=\"0 0 0\" />\n",
    "    </joint>\n",
    "````\n",
    "[![Markdown,Video1_Practica](https://img.youtube.com/vi/WU-gZyKHv_8/0.jpg)](https://youtu.be/WU-gZyKHv_8)\n",
    "\n",
    "\n",
    "Este fragmento describe una conexión entre eslabones, que permite que uno gire respecto al otro. Aquí se puede ver cómo se implementan los eslabones del robot, asegurando que se alineen correctamente y funcionen dentro de los límites de velocidad y fuerza establecidos para garantizar un movimiento seguro y eficiente.\n",
    "\n",
    "Codigo \n",
    "\n",
    "````\n",
    "<joint name=\"link_1_to_link_2_joint\" type=\"revolute\">\n",
    "        <parent link=\"link_1\" />\n",
    "        <child link=\"link_2\" />\n",
    "        <axis xyz=\"1 0 0\" />\n",
    "        <limit lower=\"-1.5708\" upper=\"1.5708\" velocity=\"50.0\" effort=\"1000\" />\n",
    "        <origin xyz=\"0.0 0.0 0.5\" rpy=\"0 0 0\" />\n",
    "    </joint>\n",
    "````\n",
    "[![Markdown,Video2_Practica](https://img.youtube.com/vi/OmO3kbAE7yQ/0.jpg)](https://youtu.be/OmO3kbAE7yQ)\n",
    "\n",
    "\n",
    "Conclusión \n",
    "\n",
    "Como conclusión, comprendí de manera más profunda el funcionamiento de los archivos URDF y su relevancia en la descripción de robots dentro del entorno ROS 2. Me fue útil visualizar cómo se estructuran los espacios de trabajo y los paquetes en ROS, así como modificar las propiedades básicas de un robot serial.\n",
    "\n",
    "La capacidad de manipular enlaces y juntas en el URDF me permitió experimentar cómo cada ajuste afecta la simulación en RVIZ, mejorando mi entendimiento sobre el comportamiento físico y cinemático de los robots. Además, la familiarización con los archivos \"launch\" y su función en la simulación reforzó mi conocimiento práctico para futuros proyectos en robótica.\n",
    "\n",
    "Esta práctica me ha preparado para enfrentar desafíos más complejos, donde la descripción precisa de robots es fundamental en el desarrollo de soluciones robóticas reales."
   ]
  },
  {
   "cell_type": "markdown",
   "id": "2d6d564e-72ba-4147-bc0e-813f6b6c0c34",
   "metadata": {},
   "source": [
    "## Referencias "
   ]
  },
  {
   "cell_type": "markdown",
   "id": "06d06e29-a868-4f9f-8317-61c102d77eb7",
   "metadata": {},
   "source": [
    "Á. García Cazorla, \"ROS: Robot Operating System,\" Proyecto Fin de Carrera, I.T.I. Electrónica Industrial, Universidad Politécnica de Cartagena, Cartagena, España, Septiembre 2013. Disponible en: /mnt/data/pfc5588.pdf."
   ]
  },
  {
   "cell_type": "markdown",
   "id": "b034af36-d1ae-4599-8692-1a8cb5af3002",
   "metadata": {},
   "source": [
    "R. Martín Batanero, \"ROS para la simulación y control de exoesqueletos,\" Trabajo Fin de Máster, Máster Universitario en Automática y Robótica, Universidad de Alicante, Alicante, España, Junio 2021. Disponible en: /mnt/data/Ros_para_la_simulacion_y_control_de_exoesqueletos_Martin_Batanero_Raul.pdf."
   ]
  }
 ],
 "metadata": {
  "kernelspec": {
   "display_name": "Python 3 (ipykernel)",
   "language": "python",
   "name": "python3"
  },
  "language_info": {
   "codemirror_mode": {
    "name": "ipython",
    "version": 3
   },
   "file_extension": ".py",
   "mimetype": "text/x-python",
   "name": "python",
   "nbconvert_exporter": "python",
   "pygments_lexer": "ipython3",
   "version": "3.10.12"
  }
 },
 "nbformat": 4,
 "nbformat_minor": 5
}
